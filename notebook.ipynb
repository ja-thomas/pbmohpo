{
 "cells": [
  {
   "cell_type": "markdown",
   "id": "294ab5d5",
   "metadata": {},
   "source": [
    "In this notebook we will briefly cover the basics of the `pbmohpo` module implementing preferential Bayesian multi-objective hyperparameter optimization.\n",
    "Core functionality is provided via the `run_pbmohpo_bench` function which takes a `YACS` configuration file specifying the benchmark problem looking like the following:\n",
    "\n",
    "```yaml\n",
    "PROBLEM:\n",
    "  PROBLEM_TYPE: \"yahpo\"\n",
    "  ID: \"iaml_ranger\"\n",
    "  INSTANCE: \"41146\"\n",
    "  OBJECTIVE_NAMES: [\"auc\", \"ias\"]\n",
    "\n",
    "FIXED_HPS:\n",
    "  REPLACE: (\"replace\", \"TRUE\")\n",
    "  RESPECT_UNORDERED_FACTORS: (\"respect.unordered.factors\", \"ignore\")\n",
    "  SPLITRULE: (\"splitrule\", \"gini\")\n",
    "  NUM_RANDOM_SPLITS: (\"num_random_splits\", 1)\n",
    "```\n",
    "\n",
    "This config file specifies the benchmark `PROBLEM` and allows for fixing certain hyperparamters of the search space (`FIXED_HPS`).\n",
    "\n",
    "`pbmohpo` provides exemplarly config files in the `experiments_configs` directory.\n",
    "We can proceed to use the above config file via:"
   ]
  },
  {
   "cell_type": "code",
   "execution_count": 1,
   "id": "da1ae700",
   "metadata": {},
   "outputs": [
    {
     "name": "stdout",
     "output_type": "stream",
     "text": [
      "BUDGET:\n",
      "  BUDGET_AMOUNT: 50\n",
      "  BUDGET_TYPE: iterations\n",
      "DECISION_MAKER:\n",
      "  DECISION_MAKER_TYPE: DecisionMaker\n",
      "FIXED_HPS:\n",
      "  BOOSTER: (None, None)\n",
      "  NUM_IMPUTE_SELECTED_CPO: (None, None)\n",
      "  NUM_RANDOM_SPLITS: ('num_random_splits', 1)\n",
      "  REPL: (None, None)\n",
      "  REPLACE: ('replace', 'TRUE')\n",
      "  RESPECT_UNORDERED_FACTORS: ('respect.unordered.factors', 'ignore')\n",
      "  SPLITRULE: ('splitrule', 'gini')\n",
      "  TRAINSIZE: ('trainsize', 1)\n",
      "OPTIMIZER:\n",
      "  OPTIMIZER_TYPE: BO\n",
      "PROBLEM:\n",
      "  DIMENSIONS: 10\n",
      "  ID: iaml_ranger\n",
      "  INSTANCE: 41146\n",
      "  OBJECTIVE_NAMES: ['auc', 'nf', 'ias']\n",
      "  PROBLEM_TYPE: yahpo\n"
     ]
    }
   ],
   "source": [
    "from main import run_pbmohpo_bench\n",
    "from config import get_cfg_defaults\n",
    "\n",
    "cfg = get_cfg_defaults() # this is somehwat weird? why are there some random defaults for different learners\n",
    "cfg.merge_from_file('./experiment_configs/iaml_ranger.yaml')\n",
    "cfg.freeze()\n",
    "print(cfg)"
   ]
  },
  {
   "cell_type": "markdown",
   "id": "ebfdd875",
   "metadata": {},
   "source": [
    "We see that among `PROBLEM` and `FIXED_HPS` the resulting `YACS` config also includes parameters regarding the `BUDGET` and `OPTIMIZER` itself as well as the `DECISION MAKER`.\n",
    "Running `run_pbmohpo_bench` on such a config will run the `OPTIMIZER` for the given `BUDGET` making use of the `DECISION_MAKER` to determine the utility function (i.e., in this example BO optimizing the utility scores provided by the decision maker for 50 function evaluation):"
   ]
  },
  {
   "cell_type": "code",
   "execution_count": 2,
   "id": "5074370a",
   "metadata": {},
   "outputs": [
    {
     "name": "stdout",
     "output_type": "stream",
     "text": [
      "Testing YAHPO\n",
      "id: iaml_ranger\n",
      "instance: 41146\n",
      "objectives: ['auc', 'nf', 'ias']\n",
      "Running Bayesian Optimization on Utility Scores\n",
      "Configuration space object:\n",
      "  Hyperparameters:\n",
      "    min.node.size, Type: UniformInteger, Range: [1, 100], Default: 50\n",
      "    mtry.ratio, Type: UniformFloat, Range: [0.0, 1.0], Default: 0.5\n",
      "    num.trees, Type: UniformInteger, Range: [1, 2000], Default: 1000\n",
      "    sample.fraction, Type: UniformFloat, Range: [0.1, 1.0], Default: 0.55\n",
      "\n",
      "Decision Maker Preference Scores:\n",
      "{'auc': 0.36193327838089256, 'nf': 0.34593361879026646, 'ias': 0.292133102828841}\n",
      "Running [ 1|50]: Best utility: -6.646253967841423\n",
      "Running [ 2|50]: Best utility: -6.590965193008098\n",
      "Running [ 3|50]: Best utility: -6.590965193008098\n",
      "Running [ 4|50]: Best utility: -6.590965193008098\n",
      "Running [ 5|50]: Best utility: -6.578437672044086\n",
      "Running [ 6|50]: Best utility: -6.578437672044086\n",
      "Running [ 7|50]: Best utility: -6.578437672044086\n",
      "Running [ 8|50]: Best utility: -6.578437672044086\n",
      "Running [ 9|50]: Best utility: -6.578437672044086\n",
      "Running [10|50]: Best utility: -6.578437672044086\n",
      "Running [11|50]: Best utility: -6.576995303492317\n",
      "Running [12|50]: Best utility: -6.576995303492317\n",
      "Running [13|50]: Best utility: -6.576995303492317\n",
      "Running [14|50]: Best utility: -6.576995303492317\n",
      "Running [15|50]: Best utility: -6.576995303492317\n",
      "Running [16|50]: Best utility: -6.576995303492317\n",
      "Running [17|50]: Best utility: -6.576995303492317\n",
      "Running [18|50]: Best utility: -6.576995303492317\n",
      "Running [19|50]: Best utility: -6.576995303492317\n",
      "Running [20|50]: Best utility: -6.576995303492317\n",
      "Running [21|50]: Best utility: -6.576995303492317\n",
      "Running [22|50]: Best utility: -6.576995303492317\n",
      "Running [23|50]: Best utility: -6.576995303492317\n",
      "Running [24|50]: Best utility: -6.576995303492317\n",
      "Running [25|50]: Best utility: -6.576995303492317\n",
      "Running [26|50]: Best utility: -6.576995303492317\n",
      "Running [27|50]: Best utility: -6.576995303492317\n",
      "Running [28|50]: Best utility: -6.576995303492317\n",
      "Running [29|50]: Best utility: -6.576995303492317\n",
      "Running [30|50]: Best utility: -6.576995303492317\n",
      "Running [31|50]: Best utility: -6.576995303492317\n",
      "Running [32|50]: Best utility: -6.576995303492317\n",
      "Running [33|50]: Best utility: -6.576995303492317\n",
      "Running [34|50]: Best utility: -6.576995303492317\n",
      "Running [35|50]: Best utility: -6.576995303492317\n",
      "Running [36|50]: Best utility: -6.576995303492317\n",
      "Running [37|50]: Best utility: -6.576995303492317\n",
      "Running [38|50]: Best utility: -6.576995303492317\n",
      "Running [39|50]: Best utility: -6.576995303492317\n",
      "Running [40|50]: Best utility: -6.576995303492317\n",
      "Running [41|50]: Best utility: -6.576995303492317\n",
      "Running [42|50]: Best utility: -6.576995303492317\n",
      "Running [43|50]: Best utility: -6.576995303492317\n",
      "Running [44|50]: Best utility: -6.576995303492317\n",
      "Running [45|50]: Best utility: -6.576995303492317\n",
      "Running [46|50]: Best utility: -6.576995303492317\n",
      "Running [47|50]: Best utility: -6.576995303492317\n",
      "Running [48|50]: Best utility: -6.576995303492317\n",
      "Running [49|50]: Best utility: -6.576995303492317\n",
      "Running [50|50]: Best utility: -6.576995303492317\n",
      "Best Configuration found in iteration [10]:\n",
      "Evaluation(config=Configuration(values={\n",
      "  'min.node.size': 77,\n",
      "  'mtry.ratio': 0.04576897155493498,\n",
      "  'num.trees': 1817,\n",
      "  'sample.fraction': 0.40786585090681915,\n",
      "})\n",
      ", objectives={'auc': 0.9629122018814087, 'nf': -20.0, 'ias': -0.023389672860503197}, utility=-6.576995303492317)\n"
     ]
    },
    {
     "data": {
      "image/png": "[encoded data removed]",
      "text/plain": [
       "<Figure size 640x480 with 1 Axes>"
      ]
     },
     "metadata": {},
     "output_type": "display_data"
    }
   ],
   "source": [
    "run_pbmohpo_bench(cfg, visualize=True)"
   ]
  },
  {
   "cell_type": "markdown",
   "id": "d304b009",
   "metadata": {},
   "source": [
    "We can see the optimization progress over time (which is also visualized in the figure).\n",
    "Moreover, the best configuration found and the corresponding objectives are printed.\n",
    "We can easily compare this to a random search: # Not meaningful because the decision maker is not fixed?"
   ]
  },
  {
   "cell_type": "code",
   "execution_count": 3,
   "id": "1ec72183",
   "metadata": {},
   "outputs": [
    {
     "name": "stdout",
     "output_type": "stream",
     "text": [
      "BUDGET:\n",
      "  BUDGET_AMOUNT: 50\n",
      "  BUDGET_TYPE: iterations\n",
      "DECISION_MAKER:\n",
      "  DECISION_MAKER_TYPE: DecisionMaker\n",
      "FIXED_HPS:\n",
      "  BOOSTER: (None, None)\n",
      "  NUM_IMPUTE_SELECTED_CPO: (None, None)\n",
      "  NUM_RANDOM_SPLITS: ('num_random_splits', 1)\n",
      "  REPL: (None, None)\n",
      "  REPLACE: ('replace', 'TRUE')\n",
      "  RESPECT_UNORDERED_FACTORS: ('respect.unordered.factors', 'ignore')\n",
      "  SPLITRULE: ('splitrule', 'gini')\n",
      "  TRAINSIZE: ('trainsize', 1)\n",
      "OPTIMIZER:\n",
      "  OPTIMIZER_TYPE: RS\n",
      "PROBLEM:\n",
      "  DIMENSIONS: 10\n",
      "  ID: iaml_ranger\n",
      "  INSTANCE: 41146\n",
      "  OBJECTIVE_NAMES: ['auc', 'nf', 'ias']\n",
      "  PROBLEM_TYPE: yahpo\n"
     ]
    }
   ],
   "source": [
    "cfg.defrost()\n",
    "cfg.merge_from_list([\"OPTIMIZER.OPTIMIZER_TYPE\", \"RS\"])\n",
    "cfg.freeze()\n",
    "print(cfg)"
   ]
  },
  {
   "cell_type": "code",
   "execution_count": 4,
   "id": "93f9dc8e",
   "metadata": {},
   "outputs": [
    {
     "name": "stdout",
     "output_type": "stream",
     "text": [
      "Testing YAHPO\n",
      "id: iaml_ranger\n",
      "instance: 41146\n",
      "objectives: ['auc', 'nf', 'ias']\n",
      "Running Random Search\n",
      "Configuration space object:\n",
      "  Hyperparameters:\n",
      "    min.node.size, Type: UniformInteger, Range: [1, 100], Default: 50\n",
      "    mtry.ratio, Type: UniformFloat, Range: [0.0, 1.0], Default: 0.5\n",
      "    num.trees, Type: UniformInteger, Range: [1, 2000], Default: 1000\n",
      "    sample.fraction, Type: UniformFloat, Range: [0.1, 1.0], Default: 0.55\n",
      "\n",
      "Decision Maker Preference Scores:\n",
      "{'auc': 0.45500196869443876, 'nf': 0.2290074411043738, 'ias': 0.31599059020118736}\n",
      "Running [ 1|50]: Best utility: -4.235689743834423\n",
      "Running [ 2|50]: Best utility: -4.151202107330885\n",
      "Running [ 3|50]: Best utility: -4.151202107330885\n",
      "Running [ 4|50]: Best utility: -4.151202107330885\n",
      "Running [ 5|50]: Best utility: -4.151202107330885\n",
      "Running [ 6|50]: Best utility: -4.151202107330885\n",
      "Running [ 7|50]: Best utility: -4.151202107330885\n",
      "Running [ 8|50]: Best utility: -4.151202107330885\n",
      "Running [ 9|50]: Best utility: -4.151202107330885\n",
      "Running [10|50]: Best utility: -4.151202107330885\n",
      "Running [11|50]: Best utility: -4.151202107330885\n",
      "Running [12|50]: Best utility: -4.151202107330885\n",
      "Running [13|50]: Best utility: -4.151202107330885\n",
      "Running [14|50]: Best utility: -4.151202107330885\n",
      "Running [15|50]: Best utility: -4.151202107330885\n",
      "Running [16|50]: Best utility: -4.151202107330885\n",
      "Running [17|50]: Best utility: -4.151202107330885\n",
      "Running [18|50]: Best utility: -4.151202107330885\n",
      "Running [19|50]: Best utility: -4.151202107330885\n",
      "Running [20|50]: Best utility: -4.151202107330885\n",
      "Running [21|50]: Best utility: -4.151202107330885\n",
      "Running [22|50]: Best utility: -4.151202107330885\n",
      "Running [23|50]: Best utility: -4.151202107330885\n",
      "Running [24|50]: Best utility: -4.151202107330885\n",
      "Running [25|50]: Best utility: -4.151202107330885\n",
      "Running [26|50]: Best utility: -4.151202107330885\n",
      "Running [27|50]: Best utility: -4.151202107330885\n",
      "Running [28|50]: Best utility: -4.151188452976223\n",
      "Running [29|50]: Best utility: -4.151188452976223\n",
      "Running [30|50]: Best utility: -4.151188452976223\n",
      "Running [31|50]: Best utility: -4.151188452976223\n",
      "Running [32|50]: Best utility: -4.150195557283605\n",
      "Running [33|50]: Best utility: -4.150195557283605\n",
      "Running [34|50]: Best utility: -4.150195557283605\n",
      "Running [35|50]: Best utility: -4.150195557283605\n",
      "Running [36|50]: Best utility: -4.150195557283605\n",
      "Running [37|50]: Best utility: -4.148923894543996\n",
      "Running [38|50]: Best utility: -4.148923894543996\n",
      "Running [39|50]: Best utility: -4.148923894543996\n",
      "Running [40|50]: Best utility: -4.148923894543996\n",
      "Running [41|50]: Best utility: -4.148923894543996\n",
      "Running [42|50]: Best utility: -4.148923894543996\n",
      "Running [43|50]: Best utility: -4.148923894543996\n",
      "Running [44|50]: Best utility: -4.148923894543996\n",
      "Running [45|50]: Best utility: -4.148923894543996\n",
      "Running [46|50]: Best utility: -4.148923894543996\n",
      "Running [47|50]: Best utility: -4.148923894543996\n",
      "Running [48|50]: Best utility: -4.148432793804887\n",
      "Running [49|50]: Best utility: -4.148432793804887\n",
      "Running [50|50]: Best utility: -4.148432793804887\n",
      "Best Configuration found in iteration [47]:\n",
      "Evaluation(config=Configuration(values={\n",
      "  'min.node.size': 80,\n",
      "  'mtry.ratio': 0.03413253347255285,\n",
      "  'num.trees': 1661,\n",
      "  'sample.fraction': 0.2542942535143199,\n",
      "})\n",
      ", objectives={'auc': 0.9608011245727539, 'nf': -20.0, 'ias': -0.01724853552877903}, utility=-4.148432793804887)\n"
     ]
    },
    {
     "data": {
      "image/png": "[encoded data removed]",
      "text/plain": [
       "<Figure size 640x480 with 1 Axes>"
      ]
     },
     "metadata": {},
     "output_type": "display_data"
    }
   ],
   "source": [
    "run_pbmohpo_bench(cfg, visualize=True)"
   ]
  },
  {
   "cell_type": "markdown",
   "id": "97d80aff",
   "metadata": {},
   "source": [
    "`pbmohpo` also provides the `Benchmark` class that allows for working in a modular way relying on a `Problem`, an `Optimizer`, a `DecisionMaker` and a `budget` given as the number of function evaluations:"
   ]
  },
  {
   "cell_type": "code",
   "execution_count": 5,
   "id": "906b9c8b",
   "metadata": {},
   "outputs": [
    {
     "name": "stdout",
     "output_type": "stream",
     "text": [
      "Configuration space object:\n",
      "  Hyperparameters:\n",
      "    min.node.size, Type: UniformInteger, Range: [1, 100], Default: 50\n",
      "    mtry.ratio, Type: UniformFloat, Range: [0.0, 1.0], Default: 0.5\n",
      "    num.trees, Type: UniformInteger, Range: [1, 2000], Default: 1000\n",
      "    sample.fraction, Type: UniformFloat, Range: [0.1, 1.0], Default: 0.55\n",
      "    trainsize, Type: UniformFloat, Range: [0.03, 1.0], Default: 0.525\n",
      "\n",
      "{'auc': 0.07192519881446285, 'ias': 0.9280748011855371}\n"
     ]
    }
   ],
   "source": [
    "from pbmohpo.benchmark import Benchmark\n",
    "from pbmohpo.problems.yahpo import YAHPO\n",
    "from pbmohpo.optimizers.optimizer import PreferenceOptimizer\n",
    "from pbmohpo.optimizers.random_search import PreferentialRandomSearch\n",
    "from pbmohpo.decision_makers.decision_maker import DecisionMaker\n",
    "from pbmohpo.utils import visualize_archives\n",
    "\n",
    "fix_hps = {\n",
    "    \"trainsize\": 1,\n",
    "    \"replace\": \"TRUE\",\n",
    "    \"respect.unordered.factors\": \"ignore\",\n",
    "    \"splitrule\": \"gini\",\n",
    "    \"num_random_splits\": 1,\n",
    "}\n",
    "prob = YAHPO(id=\"iaml_ranger\", fix_hps=fix_hps, instance=\"41146\", objective_names=[\"auc\", \"ias\"])\n",
    "\n",
    "opt = PreferentialRandomSearch(prob.get_config_space())  # why does this have a print output and other constructors do not\n",
    "\n",
    "dm = DecisionMaker(objective_names=prob.get_objective_names())\n",
    "print(dm.preferences)"
   ]
  },
  {
   "cell_type": "code",
   "execution_count": 6,
   "id": "030c06a0",
   "metadata": {},
   "outputs": [
    {
     "name": "stdout",
     "output_type": "stream",
     "text": [
      "Running [ 2|50]: Best utility: 0.013331921622036863\n",
      "Running [ 4|50]: Best utility: 0.024568045195520985\n",
      "Running [ 6|50]: Best utility: 0.024568045195520985\n",
      "Running [ 8|50]: Best utility: 0.04697195650783457\n",
      "Running [10|50]: Best utility: 0.057458020524180836\n",
      "Running [12|50]: Best utility: 0.057458020524180836\n",
      "Running [14|50]: Best utility: 0.057458020524180836\n",
      "Running [16|50]: Best utility: 0.057458020524180836\n",
      "Running [18|50]: Best utility: 0.057458020524180836\n",
      "Running [20|50]: Best utility: 0.057458020524180836\n",
      "Running [22|50]: Best utility: 0.057458020524180836\n",
      "Running [24|50]: Best utility: 0.057458020524180836\n",
      "Running [26|50]: Best utility: 0.057458020524180836\n",
      "Running [28|50]: Best utility: 0.057458020524180836\n",
      "Running [30|50]: Best utility: 0.057458020524180836\n",
      "Running [32|50]: Best utility: 0.057458020524180836\n",
      "Running [34|50]: Best utility: 0.057458020524180836\n",
      "Running [36|50]: Best utility: 0.057458020524180836\n",
      "Running [38|50]: Best utility: 0.057458020524180836\n",
      "Running [40|50]: Best utility: 0.057458020524180836\n",
      "Running [42|50]: Best utility: 0.057458020524180836\n",
      "Running [44|50]: Best utility: 0.057458020524180836\n",
      "Running [46|50]: Best utility: 0.057458020524180836\n",
      "Running [48|50]: Best utility: 0.057458020524180836\n",
      "Running [50|50]: Best utility: 0.057458020524180836\n"
     ]
    }
   ],
   "source": [
    "bench = Benchmark(prob, opt, dm, budget=50)\n",
    "bench.run()"
   ]
  },
  {
   "cell_type": "code",
   "execution_count": 28,
   "id": "619f6a46",
   "metadata": {},
   "outputs": [
    {
     "data": {
      "image/png": "[encoded data removed]",
      "text/plain": [
       "<Figure size 640x480 with 1 Axes>"
      ]
     },
     "execution_count": 28,
     "metadata": {},
     "output_type": "execute_result"
    },
    {
     "data": {
      "image/png": "[encoded data removed]",
      "text/plain": [
       "<Figure size 640x480 with 1 Axes>"
      ]
     },
     "metadata": {},
     "output_type": "display_data"
    }
   ],
   "source": [
    "archive = (bench.archive.to_utility_archive() if issubclass(type(opt), PreferenceOptimizer) else bench.archive)\n",
    "visualize_archives([archive])"
   ]
  }
 ],
 "metadata": {
  "kernelspec": {
   "display_name": "pbmohpo",
   "language": "python",
   "name": "pbmohpo"
  },
  "language_info": {
   "codemirror_mode": {
    "name": "ipython",
    "version": 3
   },
   "file_extension": ".py",
   "mimetype": "text/x-python",
   "name": "python",
   "nbconvert_exporter": "python",
   "pygments_lexer": "ipython3",
   "version": "3.8.12"
  }
 },
 "nbformat": 4,
 "nbformat_minor": 5
}
